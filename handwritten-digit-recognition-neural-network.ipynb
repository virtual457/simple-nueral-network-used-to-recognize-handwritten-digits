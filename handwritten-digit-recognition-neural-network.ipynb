{
 "cells": [
  {
   "cell_type": "code",
   "execution_count": 144,
   "metadata": {},
   "outputs": [],
   "source": [
    "import tensorflow as tf\n",
    "from IPython.display import clear_output\n",
    "import numpy as np"
   ]
  },
  {
   "cell_type": "code",
   "execution_count": 145,
   "metadata": {},
   "outputs": [],
   "source": [
    "mnist = tf.keras.datasets.mnist"
   ]
  },
  {
   "cell_type": "code",
   "execution_count": 146,
   "metadata": {},
   "outputs": [],
   "source": [
    "dataset = mnist.load_data()"
   ]
  },
  {
   "cell_type": "code",
   "execution_count": 147,
   "metadata": {},
   "outputs": [],
   "source": [
    "import matplotlib.pyplot as plt"
   ]
  },
  {
   "cell_type": "code",
   "execution_count": 148,
   "metadata": {},
   "outputs": [],
   "source": [
    "def img_to_array(x):\n",
    "    ##plt.imshow(x,cmap=\"gray\")\n",
    "    res=[]\n",
    "    for j in x:\n",
    "        for k in j:\n",
    "            if (k<=128):\n",
    "                res.append(0)\n",
    "            else:\n",
    "                res.append(1)\n",
    "    return res"
   ]
  },
  {
   "cell_type": "code",
   "execution_count": 149,
   "metadata": {},
   "outputs": [],
   "source": [
    "def array_show(x):\n",
    "    c=np.array(x)\n",
    "    x=c.reshape(28,28)\n",
    "    \n",
    "    plt.imshow(x,cmap=\"gray\")"
   ]
  },
  {
   "cell_type": "code",
   "execution_count": 150,
   "metadata": {},
   "outputs": [
    {
     "name": "stdout",
     "output_type": "stream",
     "text": [
      "[[ 0.04301462 -0.0474118   0.08066346 ... -0.03472342 -0.0101463\n",
      "  -0.0429578 ]\n",
      " [-0.04684893 -0.05482087  0.010943   ...  0.05175148  0.03092444\n",
      "   0.09844524]\n",
      " [ 0.05294365 -0.04613643  0.09501068 ...  0.09391947 -0.06748213\n",
      "  -0.00432299]\n",
      " ...\n",
      " [-0.09175521  0.06067074  0.00151491 ...  0.05111187 -0.09887461\n",
      "  -0.03755586]\n",
      " [ 0.06287907 -0.05705372 -0.03288023 ...  0.01730758  0.01172843\n",
      "  -0.01270205]\n",
      " [-0.0123097   0.03680634 -0.06004335 ... -0.0676607   0.0302253\n",
      "   0.02689929]]\n"
     ]
    }
   ],
   "source": [
    "theta1=np.random.uniform(-0.1,0.1,(784,784))\n",
    "print(theta1)\n",
    "theta2=np.random.uniform(-0.1,0.1,(10,784))"
   ]
  },
  {
   "cell_type": "code",
   "execution_count": 151,
   "metadata": {},
   "outputs": [],
   "source": [
    "def sigmoid(x):\n",
    "    res=[]\n",
    "    for i in x:\n",
    "        for j in i:\n",
    "            res.append(1/(1+np.exp(-j)))\n",
    "    return res"
   ]
  },
  {
   "cell_type": "code",
   "execution_count": 152,
   "metadata": {},
   "outputs": [],
   "source": [
    "def create_vector(x):\n",
    "    c=np.array([0.0,0.0,0.0,0.0,0.0,0.0,0.0,0.0,0.0,0.0]).reshape(10,1)\n",
    "    c[x]=c[x]+1.0\n",
    "\n",
    "\n",
    "    return c"
   ]
  },
  {
   "cell_type": "code",
   "execution_count": null,
   "metadata": {},
   "outputs": [
    {
     "name": "stdout",
     "output_type": "stream",
     "text": [
      "[[4.66337873e-06]\n",
      " [9.62342574e-01]\n",
      " [1.85417527e-02]\n",
      " [3.44746532e-02]\n",
      " [1.27123695e-02]\n",
      " [3.65704716e-02]\n",
      " [5.56337667e-02]\n",
      " [1.13133311e-02]\n",
      " [8.91151859e-04]\n",
      " [6.48152411e-03]]\n",
      "[[ 4.66337873e-06]\n",
      " [-3.76574256e-02]\n",
      " [ 1.85417527e-02]\n",
      " [ 3.44746532e-02]\n",
      " [ 1.27123695e-02]\n",
      " [ 3.65704716e-02]\n",
      " [ 5.56337667e-02]\n",
      " [ 1.13133311e-02]\n",
      " [ 8.91151859e-04]\n",
      " [ 6.48152411e-03]]\n",
      "[[0.]\n",
      " [1.]\n",
      " [0.]\n",
      " [0.]\n",
      " [0.]\n",
      " [0.]\n",
      " [0.]\n",
      " [0.]\n",
      " [0.]\n",
      " [0.]]\n",
      "1711\n"
     ]
    }
   ],
   "source": [
    "count=0\n",
    "for i in x1:\n",
    "    clear_output(wait=True)\n",
    "    xi=np.array(img_to_array(i)).reshape(784,1)\n",
    "    v=np.matmul(theta1,xi)\n",
    "    xh=np.array(sigmoid(np.matmul(theta1,xi))).reshape(784,1)\n",
    "    xo=np.array(sigmoid(np.matmul(theta2,xh))).reshape(10,1)\n",
    "    yo=create_vector(y1[count])\n",
    "    ##backpropagation beaware of indices\n",
    "    error1=np.subtract(xo,yo)\n",
    "    error2=np.matmul(theta2.transpose(),error1)\n",
    "    delta1=np.matmul(np.dot(np.multiply(np.multiply(xo,(1-xo)),error1),0.1),xh.transpose())\n",
    "    theta2=np.subtract(theta2,delta1)\n",
    "    delta2=np.matmul(np.dot(np.multiply(np.multiply(xh,(1-xh)),error2),0.1),xi.transpose())\n",
    "    theta1=np.subtract(theta1,delta2)\n",
    "    count=count+1\n",
    "    print(xo)\n",
    "    print(error1)\n",
    "    print(yo)\n",
    "    print(count)"
   ]
  },
  {
   "cell_type": "code",
   "execution_count": 141,
   "metadata": {},
   "outputs": [
    {
     "name": "stdout",
     "output_type": "stream",
     "text": [
      "0.9127\n",
      "10001\n"
     ]
    }
   ],
   "source": [
    "count=1\n",
    "account=0\n",
    "sq=0\n",
    "sum=0.0\n",
    "for i in range(0,10000):\n",
    "    clear_output(wait=True)\n",
    "    xi=np.array(img_to_array(x2[i])).reshape(784,1)\n",
    "    xh=np.array(sigmoid(np.matmul(theta1,xi))).reshape(784,1)\n",
    "    xo=np.array(sigmoid(np.matmul(theta2,xh))).reshape(10,1)\n",
    "    yo=create_vector(y2[i])\n",
    "    result1 = np.where(xo == np.amax(xo))\n",
    "    result2 = np.where(yo == np.amax(yo))\n",
    "    if (result1==result2):\n",
    "        account=account+1\n",
    "    accuracy=account/count\n",
    "    count=count+1\n",
    "    print(accuracy)\n",
    "    print(count)"
   ]
  },
  {
   "cell_type": "code",
   "execution_count": null,
   "metadata": {},
   "outputs": [],
   "source": []
  }
 ],
 "metadata": {
  "kernelspec": {
   "display_name": "Python 3",
   "language": "python",
   "name": "python3"
  },
  "language_info": {
   "codemirror_mode": {
    "name": "ipython",
    "version": 3
   },
   "file_extension": ".py",
   "mimetype": "text/x-python",
   "name": "python",
   "nbconvert_exporter": "python",
   "pygments_lexer": "ipython3",
   "version": "3.7.1"
  }
 },
 "nbformat": 4,
 "nbformat_minor": 2
}
